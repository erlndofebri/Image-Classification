{
 "cells": [
  {
   "cell_type": "markdown",
   "id": "ebe3e551",
   "metadata": {},
   "source": [
    "# Import Libraries"
   ]
  },
  {
   "cell_type": "code",
   "execution_count": 2,
   "id": "82998978",
   "metadata": {
    "ExecuteTime": {
     "end_time": "2022-08-25T09:40:19.718041Z",
     "start_time": "2022-08-25T09:39:48.738337Z"
    }
   },
   "outputs": [],
   "source": [
    "import pandas as pd\n",
    "import numpy as np\n",
    "import matplotlib.pyplot as plt\n",
    "from tensorflow.keras.utils import to_categorical\n",
    "\n",
    "# import mnist\n",
    "from tensorflow.keras.datasets import mnist"
   ]
  },
  {
   "cell_type": "markdown",
   "id": "afdfbb12",
   "metadata": {},
   "source": [
    "# Dataset Overview"
   ]
  },
  {
   "cell_type": "code",
   "execution_count": 3,
   "id": "16383782",
   "metadata": {
    "ExecuteTime": {
     "end_time": "2022-08-25T09:42:08.797934Z",
     "start_time": "2022-08-25T09:42:04.315618Z"
    }
   },
   "outputs": [
    {
     "name": "stdout",
     "output_type": "stream",
     "text": [
      "Downloading data from https://storage.googleapis.com/tensorflow/tf-keras-datasets/mnist.npz\n",
      "11490434/11490434 [==============================] - 3s 0us/step\n"
     ]
    }
   ],
   "source": [
    "# read and splot data\n",
    "(x_train, y_train), (x_test, y_test) = mnist.load_data()"
   ]
  },
  {
   "cell_type": "code",
   "execution_count": 4,
   "id": "ab1da2c7",
   "metadata": {
    "ExecuteTime": {
     "end_time": "2022-08-25T09:42:26.977949Z",
     "start_time": "2022-08-25T09:42:26.965960Z"
    }
   },
   "outputs": [
    {
     "data": {
      "text/plain": [
       "((60000, 28, 28), (10000, 28, 28))"
      ]
     },
     "execution_count": 4,
     "metadata": {},
     "output_type": "execute_result"
    }
   ],
   "source": [
    "x_train.shape, x_test.shape"
   ]
  },
  {
   "cell_type": "code",
   "execution_count": 9,
   "id": "a38d7697",
   "metadata": {
    "ExecuteTime": {
     "end_time": "2022-08-25T10:12:39.213573Z",
     "start_time": "2022-08-25T10:12:39.204892Z"
    }
   },
   "outputs": [
    {
     "data": {
      "text/plain": [
       "((28, 28), (28, 28))"
      ]
     },
     "execution_count": 9,
     "metadata": {},
     "output_type": "execute_result"
    }
   ],
   "source": [
    "# glimpse data\n",
    "glimpse1 = x_train[123]\n",
    "glimpse2 = x_train[741]\n",
    "glimpse3 = x_train[425]\n",
    "glimpse4 = x_train[523]\n",
    "\n",
    "glimpse1.shape, glimpse2.shape"
   ]
  },
  {
   "cell_type": "code",
   "execution_count": 10,
   "id": "5a083df0",
   "metadata": {
    "ExecuteTime": {
     "end_time": "2022-08-25T10:12:41.022518Z",
     "start_time": "2022-08-25T10:12:40.697924Z"
    }
   },
   "outputs": [
    {
     "data": {
      "text/plain": [
       "Text(0.5, 1.0, 'glimpse4')"
      ]
     },
     "execution_count": 10,
     "metadata": {},
     "output_type": "execute_result"
    },
    {
     "data": {
      "image/png": "[encoded data removed]",
      "text/plain": [
       "<Figure size 720x720 with 4 Axes>"
      ]
     },
     "metadata": {
      "needs_background": "light"
     },
     "output_type": "display_data"
    }
   ],
   "source": [
    "rows = 2\n",
    "columns = 2\n",
    "fig = plt.figure(figsize=(10, 10))\n",
    "\n",
    "# Adds a subplot at the 1st position\n",
    "fig.add_subplot(rows, columns, 1)\n",
    "  \n",
    "# showing image\n",
    "plt.imshow(glimpse1)\n",
    "plt.axis('off')\n",
    "plt.title(\"glimpse1\")\n",
    "\n",
    "# Adds a subplot at the 2nd position\n",
    "fig.add_subplot(rows, columns, 2)\n",
    "  \n",
    "# showing image\n",
    "plt.imshow(glimpse2)\n",
    "plt.axis('off')\n",
    "plt.title(\"glimpse2\")\n",
    "\n",
    "# Adds a subplot at the 3rd position\n",
    "fig.add_subplot(rows, columns, 3)\n",
    "  \n",
    "# showing image\n",
    "plt.imshow(glimpse3)\n",
    "plt.axis('off')\n",
    "plt.title(\"glimpse3\")\n",
    "\n",
    "# Adds a subplot at the 4st position\n",
    "fig.add_subplot(rows, columns, 4)\n",
    "  \n",
    "# showing image\n",
    "plt.imshow(glimpse4)\n",
    "plt.axis('off')\n",
    "plt.title(\"glimpse4\")"
   ]
  },
  {
   "cell_type": "markdown",
   "id": "c655c209",
   "metadata": {},
   "source": [
    "# PreProcessing Data"
   ]
  },
  {
   "cell_type": "markdown",
   "id": "6cfc9707",
   "metadata": {},
   "source": [
    "## Target Data"
   ]
  },
  {
   "cell_type": "code",
   "execution_count": 11,
   "id": "528042fd",
   "metadata": {
    "ExecuteTime": {
     "end_time": "2022-08-25T10:13:22.764934Z",
     "start_time": "2022-08-25T10:13:22.754831Z"
    }
   },
   "outputs": [
    {
     "data": {
      "text/plain": [
       "array([5, 0, 4, ..., 5, 6, 8], dtype=uint8)"
      ]
     },
     "execution_count": 11,
     "metadata": {},
     "output_type": "execute_result"
    }
   ],
   "source": [
    "# We need to translate this to be \"one hot encoded\" so our CNN can understand\n",
    "# check y_train\n",
    "y_train"
   ]
  },
  {
   "cell_type": "code",
   "execution_count": 14,
   "id": "735af442",
   "metadata": {
    "ExecuteTime": {
     "end_time": "2022-08-25T11:08:24.979860Z",
     "start_time": "2022-08-25T11:08:24.965205Z"
    }
   },
   "outputs": [],
   "source": [
    "y_cat_test = to_categorical(y_test,10)\n",
    "y_cat_train = to_categorical(y_train,10)"
   ]
  },
  {
   "cell_type": "markdown",
   "id": "6d99017b",
   "metadata": {},
   "source": [
    "## Normalize Predictor Data"
   ]
  },
  {
   "cell_type": "code",
   "execution_count": 18,
   "id": "217a2ffb",
   "metadata": {
    "ExecuteTime": {
     "end_time": "2022-08-25T11:34:35.522406Z",
     "start_time": "2022-08-25T11:34:35.511508Z"
    }
   },
   "outputs": [
    {
     "name": "stdout",
     "output_type": "stream",
     "text": [
      "255\n",
      "0\n"
     ]
    }
   ],
   "source": [
    "print(glimpse4.max())\n",
    "print(glimpse4.min())"
   ]
  },
  {
   "cell_type": "code",
   "execution_count": 19,
   "id": "70a34226",
   "metadata": {
    "ExecuteTime": {
     "end_time": "2022-08-25T11:36:08.470008Z",
     "start_time": "2022-08-25T11:36:07.764710Z"
    }
   },
   "outputs": [],
   "source": [
    "x_train = x_train/255\n",
    "x_test = x_test/255"
   ]
  },
  {
   "cell_type": "markdown",
   "id": "2d8fa064",
   "metadata": {},
   "source": [
    "## Reshaping the Data"
   ]
  },
  {
   "cell_type": "code",
   "execution_count": 20,
   "id": "5a5eee6e",
   "metadata": {
    "ExecuteTime": {
     "end_time": "2022-08-25T11:36:37.143729Z",
     "start_time": "2022-08-25T11:36:37.134098Z"
    }
   },
   "outputs": [
    {
     "data": {
      "text/plain": [
       "((60000, 28, 28), (10000, 28, 28))"
      ]
     },
     "execution_count": 20,
     "metadata": {},
     "output_type": "execute_result"
    }
   ],
   "source": [
    "x_train.shape, x_test.shape"
   ]
  },
  {
   "cell_type": "code",
   "execution_count": 21,
   "id": "a2b147b7",
   "metadata": {
    "ExecuteTime": {
     "end_time": "2022-08-25T11:37:18.282911Z",
     "start_time": "2022-08-25T11:37:18.274498Z"
    }
   },
   "outputs": [
    {
     "data": {
      "text/plain": [
       "((60000, 28, 28, 1), (10000, 28, 28, 1))"
      ]
     },
     "execution_count": 21,
     "metadata": {},
     "output_type": "execute_result"
    }
   ],
   "source": [
    "x_train = x_train.reshape(60000, 28, 28, 1)\n",
    "x_test = x_test.reshape(10000,28,28,1)\n",
    "\n",
    "x_train.shape, x_test.shape"
   ]
  },
  {
   "cell_type": "markdown",
   "id": "ab0b51cc",
   "metadata": {},
   "source": [
    "# Modeling"
   ]
  },
  {
   "cell_type": "markdown",
   "id": "31c01bd7",
   "metadata": {},
   "source": [
    "## Build Model"
   ]
  },
  {
   "cell_type": "code",
   "execution_count": 22,
   "id": "e89550ef",
   "metadata": {
    "ExecuteTime": {
     "end_time": "2022-08-25T11:37:42.499733Z",
     "start_time": "2022-08-25T11:37:42.477315Z"
    }
   },
   "outputs": [],
   "source": [
    "from tensorflow.keras.models import Sequential\n",
    "from tensorflow.keras.layers import Dense, Conv2D, MaxPool2D, Flatten"
   ]
  },
  {
   "cell_type": "code",
   "execution_count": 23,
   "id": "b2798c00",
   "metadata": {
    "ExecuteTime": {
     "end_time": "2022-08-25T11:38:46.841520Z",
     "start_time": "2022-08-25T11:38:46.613523Z"
    }
   },
   "outputs": [
    {
     "name": "stderr",
     "output_type": "stream",
     "text": [
      "2022-08-25 18:38:46.671216: I tensorflow/core/platform/cpu_feature_guard.cc:193] This TensorFlow binary is optimized with oneAPI Deep Neural Network Library (oneDNN) to use the following CPU instructions in performance-critical operations:  AVX2 FMA\n",
      "To enable them in other operations, rebuild TensorFlow with the appropriate compiler flags.\n"
     ]
    }
   ],
   "source": [
    "model = Sequential()\n",
    "\n",
    "# CONVOLUTIONAL LAYER\n",
    "model.add(Conv2D(filters=32, kernel_size=(4,4),input_shape=(28, 28, 1), activation='relu',))\n",
    "\n",
    "# POOLING LAYER\n",
    "model.add(MaxPool2D(pool_size=(2, 2)))\n",
    "\n",
    "# FLATTEN IMAGES FROM 28 by 28 to 764 BEFORE FINAL LAYER\n",
    "model.add(Flatten())\n",
    "\n",
    "# 128 NEURONS IN DENSE HIDDEN LAYER \n",
    "model.add(Dense(128, activation='relu'))\n",
    "\n",
    "# LAST LAYER IS THE CLASSIFIER, THUS 10 POSSIBLE CLASSES\n",
    "model.add(Dense(10, activation='softmax'))\n",
    "\n",
    "# Loss Function\n",
    "model.compile(loss='categorical_crossentropy',\n",
    "              optimizer='adam',\n",
    "              metrics=['accuracy'])"
   ]
  },
  {
   "cell_type": "code",
   "execution_count": 24,
   "id": "019c0292",
   "metadata": {
    "ExecuteTime": {
     "end_time": "2022-08-25T11:38:53.623237Z",
     "start_time": "2022-08-25T11:38:53.543541Z"
    }
   },
   "outputs": [
    {
     "name": "stdout",
     "output_type": "stream",
     "text": [
      "Model: \"sequential\"\n",
      "_________________________________________________________________\n",
      " Layer (type)                Output Shape              Param #   \n",
      "=================================================================\n",
      " conv2d (Conv2D)             (None, 25, 25, 32)        544       \n",
      "                                                                 \n",
      " max_pooling2d (MaxPooling2D  (None, 12, 12, 32)       0         \n",
      " )                                                               \n",
      "                                                                 \n",
      " flatten (Flatten)           (None, 4608)              0         \n",
      "                                                                 \n",
      " dense (Dense)               (None, 128)               589952    \n",
      "                                                                 \n",
      " dense_1 (Dense)             (None, 10)                1290      \n",
      "                                                                 \n",
      "=================================================================\n",
      "Total params: 591,786\n",
      "Trainable params: 591,786\n",
      "Non-trainable params: 0\n",
      "_________________________________________________________________\n"
     ]
    }
   ],
   "source": [
    "model.summary()"
   ]
  },
  {
   "cell_type": "code",
   "execution_count": 25,
   "id": "59240569",
   "metadata": {
    "ExecuteTime": {
     "end_time": "2022-08-25T11:39:26.946432Z",
     "start_time": "2022-08-25T11:39:26.937143Z"
    }
   },
   "outputs": [],
   "source": [
    "# assign callback\n",
    "from tensorflow.keras.callbacks import EarlyStopping\n",
    "early_stop = EarlyStopping(monitor='val_loss',patience=2)"
   ]
  },
  {
   "cell_type": "markdown",
   "id": "1f75c506",
   "metadata": {},
   "source": [
    "## Model Training"
   ]
  },
  {
   "cell_type": "code",
   "execution_count": 35,
   "id": "a06a9b4d",
   "metadata": {
    "ExecuteTime": {
     "end_time": "2022-08-25T11:57:31.756580Z",
     "start_time": "2022-08-25T11:55:55.149890Z"
    }
   },
   "outputs": [
    {
     "name": "stdout",
     "output_type": "stream",
     "text": [
      "Epoch 1/10\n",
      "1875/1875 [==============================] - 33s 18ms/step - loss: 0.0152 - accuracy: 0.9954 - val_loss: 0.0399 - val_accuracy: 0.9868\n",
      "Epoch 2/10\n",
      "1875/1875 [==============================] - 33s 18ms/step - loss: 0.0111 - accuracy: 0.9962 - val_loss: 0.0479 - val_accuracy: 0.9866\n",
      "Epoch 3/10\n",
      "1875/1875 [==============================] - 30s 16ms/step - loss: 0.0080 - accuracy: 0.9976 - val_loss: 0.0516 - val_accuracy: 0.9859\n"
     ]
    },
    {
     "data": {
      "text/plain": [
       "<keras.callbacks.History at 0x7fee7899de20>"
      ]
     },
     "execution_count": 35,
     "metadata": {},
     "output_type": "execute_result"
    }
   ],
   "source": [
    "model.fit(x_train,y_cat_train,epochs=10,validation_data=(x_test,y_cat_test),callbacks=[early_stop])"
   ]
  },
  {
   "cell_type": "markdown",
   "id": "3950a704",
   "metadata": {},
   "source": [
    "## Evaluation"
   ]
  },
  {
   "cell_type": "code",
   "execution_count": 37,
   "id": "b786be2e",
   "metadata": {
    "ExecuteTime": {
     "end_time": "2022-08-25T11:57:35.975094Z",
     "start_time": "2022-08-25T11:57:35.966305Z"
    }
   },
   "outputs": [],
   "source": [
    "losses = pd.DataFrame(model.history.history)"
   ]
  },
  {
   "cell_type": "code",
   "execution_count": 39,
   "id": "ced08589",
   "metadata": {
    "ExecuteTime": {
     "end_time": "2022-08-25T11:58:03.043340Z",
     "start_time": "2022-08-25T11:58:02.794142Z"
    }
   },
   "outputs": [
    {
     "data": {
      "text/plain": [
       "<AxesSubplot:title={'center':'Accuracy vs Validation Accuracy'}>"
      ]
     },
     "execution_count": 39,
     "metadata": {},
     "output_type": "execute_result"
    },
    {
     "data": {
      "image/png": "[encoded data removed]",
      "text/plain": [
       "<Figure size 432x288 with 1 Axes>"
      ]
     },
     "metadata": {
      "needs_background": "light"
     },
     "output_type": "display_data"
    }
   ],
   "source": [
    "losses[['accuracy','val_accuracy']].plot(title='Accuracy vs Validation Accuracy', fontsize=12)"
   ]
  },
  {
   "cell_type": "code",
   "execution_count": 40,
   "id": "35d83888",
   "metadata": {
    "ExecuteTime": {
     "end_time": "2022-08-25T12:02:19.157252Z",
     "start_time": "2022-08-25T12:02:18.920986Z"
    }
   },
   "outputs": [
    {
     "data": {
      "text/plain": [
       "<AxesSubplot:title={'center':'Loss vs Validation Loss'}>"
      ]
     },
     "execution_count": 40,
     "metadata": {},
     "output_type": "execute_result"
    },
    {
     "data": {
      "image/png": "[encoded data removed]",
      "text/plain": [
       "<Figure size 432x288 with 1 Axes>"
      ]
     },
     "metadata": {
      "needs_background": "light"
     },
     "output_type": "display_data"
    }
   ],
   "source": [
    "losses[['loss','val_loss']].plot(title='Loss vs Validation Loss', fontsize=12)"
   ]
  },
  {
   "cell_type": "code",
   "execution_count": 41,
   "id": "41cefa05",
   "metadata": {
    "ExecuteTime": {
     "end_time": "2022-08-25T12:02:27.472723Z",
     "start_time": "2022-08-25T12:02:26.112513Z"
    }
   },
   "outputs": [
    {
     "name": "stdout",
     "output_type": "stream",
     "text": [
      "['loss', 'accuracy']\n",
      "[0.05157332122325897, 0.9858999848365784]\n"
     ]
    }
   ],
   "source": [
    "print(model.metrics_names)\n",
    "print(model.evaluate(x_test,y_cat_test,verbose=0))"
   ]
  },
  {
   "cell_type": "code",
   "execution_count": 44,
   "id": "0ddba679",
   "metadata": {
    "ExecuteTime": {
     "end_time": "2022-08-25T12:10:08.222647Z",
     "start_time": "2022-08-25T12:10:06.212016Z"
    }
   },
   "outputs": [
    {
     "name": "stdout",
     "output_type": "stream",
     "text": [
      "313/313 [==============================] - 2s 6ms/step\n",
      "              precision    recall  f1-score   support\n",
      "\n",
      "           0       0.99      1.00      0.99       980\n",
      "           1       1.00      1.00      1.00      1135\n",
      "           2       0.99      0.98      0.98      1032\n",
      "           3       0.96      0.99      0.98      1010\n",
      "           4       0.98      1.00      0.99       982\n",
      "           5       0.99      0.96      0.98       892\n",
      "           6       1.00      0.99      0.99       958\n",
      "           7       0.99      0.99      0.99      1028\n",
      "           8       0.99      0.99      0.99       974\n",
      "           9       0.99      0.96      0.98      1009\n",
      "\n",
      "    accuracy                           0.99     10000\n",
      "   macro avg       0.99      0.99      0.99     10000\n",
      "weighted avg       0.99      0.99      0.99     10000\n",
      "\n"
     ]
    }
   ],
   "source": [
    "from sklearn.metrics import classification_report,confusion_matrix\n",
    "predictions = np.argmax(model.predict(x_test), axis=-1)\n",
    "\n",
    "print(classification_report(y_test,predictions))"
   ]
  },
  {
   "cell_type": "code",
   "execution_count": 45,
   "id": "3cf37f0f",
   "metadata": {
    "ExecuteTime": {
     "end_time": "2022-08-25T12:10:25.093293Z",
     "start_time": "2022-08-25T12:10:25.014435Z"
    }
   },
   "outputs": [
    {
     "data": {
      "text/plain": [
       "array([[ 977,    1,    0,    1,    0,    0,    0,    0,    1,    0],\n",
       "       [   0, 1130,    2,    0,    1,    0,    0,    1,    1,    0],\n",
       "       [   1,    0, 1012,    4,    2,    0,    1,    9,    3,    0],\n",
       "       [   1,    0,    2, 1004,    0,    1,    0,    0,    2,    0],\n",
       "       [   0,    0,    0,    0,  979,    0,    2,    0,    0,    1],\n",
       "       [   2,    0,    1,   27,    0,  859,    1,    0,    1,    1],\n",
       "       [   1,    3,    0,    0,    1,    2,  950,    0,    1,    0],\n",
       "       [   0,    0,    5,    0,    0,    0,    0, 1018,    2,    3],\n",
       "       [   2,    1,    1,    5,    1,    0,    0,    1,  960,    3],\n",
       "       [   3,    0,    0,    5,   20,    4,    0,    4,    3,  970]])"
      ]
     },
     "execution_count": 45,
     "metadata": {},
     "output_type": "execute_result"
    }
   ],
   "source": [
    "confusion_matrix(y_test,predictions)"
   ]
  },
  {
   "cell_type": "markdown",
   "id": "ec4d31b8",
   "metadata": {},
   "source": [
    "# Simulation"
   ]
  },
  {
   "cell_type": "code",
   "execution_count": 63,
   "id": "8e41268a",
   "metadata": {
    "ExecuteTime": {
     "end_time": "2022-08-25T12:12:08.918108Z",
     "start_time": "2022-08-25T12:12:08.735756Z"
    }
   },
   "outputs": [
    {
     "data": {
      "text/plain": [
       "<matplotlib.image.AxesImage at 0x7fee4e27ed30>"
      ]
     },
     "execution_count": 63,
     "metadata": {},
     "output_type": "execute_result"
    },
    {
     "data": {
      "image/png": "[encoded data removed]",
      "text/plain": [
       "<Figure size 432x288 with 1 Axes>"
      ]
     },
     "metadata": {
      "needs_background": "light"
     },
     "output_type": "display_data"
    }
   ],
   "source": [
    "number = x_test[2341]\n",
    "plt.imshow(number.reshape(28,28))"
   ]
  },
  {
   "cell_type": "code",
   "execution_count": 65,
   "id": "e73232ab",
   "metadata": {
    "ExecuteTime": {
     "end_time": "2022-08-25T12:12:45.183482Z",
     "start_time": "2022-08-25T12:12:45.045014Z"
    }
   },
   "outputs": [
    {
     "name": "stdout",
     "output_type": "stream",
     "text": [
      "1/1 [==============================] - 0s 46ms/step\n"
     ]
    },
    {
     "data": {
      "text/plain": [
       "array([9])"
      ]
     },
     "execution_count": 65,
     "metadata": {},
     "output_type": "execute_result"
    }
   ],
   "source": [
    "# SHAPE --> (num_images,width,height,color_channels)\n",
    "np.argmax(model.predict(number.reshape(1,28,28,1)), axis=-1)"
   ]
  }
 ],
 "metadata": {
  "kernelspec": {
   "display_name": "Python 3 (ipykernel)",
   "language": "python",
   "name": "python3"
  },
  "language_info": {
   "codemirror_mode": {
    "name": "ipython",
    "version": 3
   },
   "file_extension": ".py",
   "mimetype": "text/x-python",
   "name": "python",
   "nbconvert_exporter": "python",
   "pygments_lexer": "ipython3",
   "version": "3.9.7"
  },
  "toc": {
   "base_numbering": 1,
   "nav_menu": {},
   "number_sections": true,
   "sideBar": true,
   "skip_h1_title": false,
   "title_cell": "Table of Contents",
   "title_sidebar": "Contents",
   "toc_cell": false,
   "toc_position": {},
   "toc_section_display": true,
   "toc_window_display": true
  }
 },
 "nbformat": 4,
 "nbformat_minor": 5
}
